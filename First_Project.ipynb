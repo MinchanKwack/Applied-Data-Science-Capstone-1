{
  "nbformat": 4,
  "nbformat_minor": 0,
  "metadata": {
    "colab": {
      "name": "First Project.ipynb",
      "provenance": []
    },
    "kernelspec": {
      "name": "python3",
      "display_name": "Python 3"
    }
  },
  "cells": [
    {
      "cell_type": "code",
      "metadata": {
        "id": "UTtRCaO2xdpo",
        "colab": {
          "base_uri": "https://localhost:8080/"
        },
        "outputId": "1271c446-13b7-470f-d72b-2daf80eed955"
      },
      "source": [
        "import pandas as pd\r\n",
        "import numpy as np\r\n",
        "\r\n",
        "print('Hello Capstone Project Course!')"
      ],
      "execution_count": 7,
      "outputs": [
        {
          "output_type": "stream",
          "text": [
            "Hello Capstone Project Course!\n"
          ],
          "name": "stdout"
        }
      ]
    },
    {
      "cell_type": "markdown",
      "metadata": {
        "id": "-ep2edwGxor0"
      },
      "source": [
        ""
      ]
    }
  ]
}